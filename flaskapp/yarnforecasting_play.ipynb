{
 "cells": [
  {
   "cell_type": "code",
   "execution_count": 1,
   "metadata": {},
   "outputs": [],
   "source": [
    "import pickle"
   ]
  },
  {
   "cell_type": "code",
   "execution_count": 2,
   "metadata": {},
   "outputs": [],
   "source": [
    "#thisPickle = pickle.load(open('flaskexample/static/yarninfo/rohrspatz--wollmeise-sockenwolle-80-20-twin_500.pkl', 'rb'))"
   ]
  },
  {
   "cell_type": "code",
   "execution_count": 3,
   "metadata": {},
   "outputs": [],
   "source": [
    "infile = open('yarntimeseries.pkl','rb')\n",
    "new_dict = pickle.load(infile)\n",
    "infile.close()"
   ]
  },
  {
   "cell_type": "code",
   "execution_count": 4,
   "metadata": {},
   "outputs": [],
   "source": [
    "import pandas as pd\n",
    "import numpy as np\n",
    "%matplotlib inline\n",
    "\n",
    "# Load specific forecasting tools\n",
    "from statsmodels.tsa.statespace.sarimax import SARIMAX\n",
    "\n",
    "from statsmodels.graphics.tsaplots import plot_acf,plot_pacf # for determining (p,q) orders\n",
    "from statsmodels.tsa.seasonal import seasonal_decompose      # for ETS Plots\n",
    "from pmdarima import auto_arima                              # for determining ARIMA orders\n",
    "\n",
    "# Ignore harmless warnings\n",
    "import warnings\n",
    "warnings.filterwarnings(\"ignore\")"
   ]
  },
  {
   "cell_type": "code",
   "execution_count": 5,
   "metadata": {},
   "outputs": [],
   "source": [
    "from tqdm import tqdm"
   ]
  },
  {
   "cell_type": "code",
   "execution_count": 6,
   "metadata": {
    "scrolled": true
   },
   "outputs": [
    {
     "name": "stderr",
     "output_type": "stream",
     "text": [
      "  2%|▏         | 4/178 [00:00<00:04, 39.58it/s]"
     ]
    },
    {
     "name": "stdout",
     "output_type": "stream",
     "text": [
      "working on dictionary rohrspatz--wollmeise-sockenwolle-80-20-twin\n",
      "working on dictionary blue-moon-fiber-arts-socks-that-rock-lightweight\n",
      "working on dictionary cascade-yarns-heritage-paints\n",
      "working on dictionary cascade-yarns-heritage\n",
      "working on dictionary lion-brand-pound-of-love\n",
      "working on dictionary knit-picks-brava-worsted\n",
      "working on dictionary brown-sheep-nature-spun-worsted\n"
     ]
    },
    {
     "name": "stderr",
     "output_type": "stream",
     "text": [
      "  6%|▌         | 11/178 [00:00<00:05, 32.58it/s]"
     ]
    },
    {
     "name": "stdout",
     "output_type": "stream",
     "text": [
      "working on dictionary lion-brand-mandala\n",
      "working on dictionary noro-kureyon-sock-\n",
      "working on dictionary malabrigo-yarn-mechita\n",
      "working on dictionary madelinetosh-tosh-merino-dk\n",
      "working on dictionary rohrspatz--wollmeise-lace-garn\n",
      "working on dictionary manos-del-uruguay-silk-blend\n",
      "working on dictionary filcolana-arwetta-classic\n",
      "working on dictionary brown-sheep-lambs-pride-bulky\n",
      "working on dictionary patons-north-america-grace\n",
      "working on dictionary garnstudio-drops-karisma\n"
     ]
    },
    {
     "name": "stderr",
     "output_type": "stream",
     "text": [
      " 13%|█▎        | 24/178 [00:00<00:03, 41.74it/s]"
     ]
    },
    {
     "name": "stdout",
     "output_type": "stream",
     "text": [
      "working on dictionary berroco-ultra-alpaca-fine\n",
      "working on dictionary madelinetosh-tosh-dk\n",
      "working on dictionary cascade-yarns-cascade-220-heathers\n",
      "working on dictionary bernat-handicrafter-cotton-solids\n",
      "working on dictionary knit-picks-stroll-tonal\n",
      "working on dictionary lily-sugarn-cream-stripes\n",
      "working on dictionary premier-yarns-everyday-worsted-solids-marls-heathers\n",
      "working on dictionary sweetgeorgia-yarns-tough-love-sock\n",
      "working on dictionary istex-lettlopi\n",
      "working on dictionary zitron-trekking-xxl\n",
      "working on dictionary garnstudio-drops-kid-silk\n"
     ]
    },
    {
     "name": "stderr",
     "output_type": "stream",
     "text": [
      " 19%|█▉        | 34/178 [00:00<00:03, 44.69it/s]"
     ]
    },
    {
     "name": "stdout",
     "output_type": "stream",
     "text": [
      "working on dictionary lion-brand-vannas-choice\n",
      "working on dictionary lion-brand-hometown-usa-solids--neons\n",
      "working on dictionary brown-sheep-lambs-pride-worsted\n",
      "working on dictionary cascade-yarns-cascade-220\n",
      "working on dictionary lily-sugarn-cream-solids--denim\n",
      "working on dictionary kauni-wool-8-2-effektgarn\n",
      "working on dictionary stylecraft-special-double-knit\n",
      "working on dictionary madelinetosh-tosh-sock\n",
      "working on dictionary loops--threads-impeccable-solids\n",
      "working on dictionary garnstudio-drops-cotton-merino\n",
      "working on dictionary dale-garn-baby-ull\n",
      "working on dictionary knit-picks-chroma-fingering\n"
     ]
    },
    {
     "name": "stderr",
     "output_type": "stream",
     "text": [
      " 26%|██▌       | 46/178 [00:01<00:02, 49.63it/s]"
     ]
    },
    {
     "name": "stdout",
     "output_type": "stream",
     "text": [
      "working on dictionary blue-moon-fiber-arts-socks-that-rock-mediumweight\n",
      "working on dictionary lion-brand-cotton-ease\n",
      "working on dictionary knit-picks-stroll-solids-heathers--twists\n",
      "working on dictionary lily-sugarn-cream-ombres\n",
      "working on dictionary malabrigo-yarn-arroyo\n",
      "working on dictionary hazel-knits-artisan-sock\n",
      "working on dictionary knit-picks-shine-sport\n",
      "working on dictionary rohrspatz--wollmeise-merino-dk\n",
      "working on dictionary brooklyn-tweed-shelter\n",
      "working on dictionary cascade-yarns-ultra-pima\n",
      "working on dictionary rowan-felted-tweed\n"
     ]
    },
    {
     "name": "stderr",
     "output_type": "stream",
     "text": [
      " 31%|███▏      | 56/178 [00:01<00:03, 38.70it/s]"
     ]
    },
    {
     "name": "stdout",
     "output_type": "stream",
     "text": [
      "working on dictionary regia-4-fadig-solids-heathers--moulines\n",
      "working on dictionary knit-picks-gloss-fingering\n",
      "working on dictionary brown-sheep-cotton-fleece\n",
      "working on dictionary hobby-lobby-i-love-this-cotton\n",
      "working on dictionary blue-sky-fibers-worsted-cotton\n",
      "working on dictionary berroco-vintage-dk\n"
     ]
    },
    {
     "name": "stderr",
     "output_type": "stream",
     "text": [
      "\r",
      " 34%|███▍      | 61/178 [00:01<00:02, 39.87it/s]"
     ]
    },
    {
     "name": "stdout",
     "output_type": "stream",
     "text": [
      "working on dictionary aunt-lydias-classic-crochet-size-10\n",
      "working on dictionary garnstudio-drops-baby-alpaca-silk\n",
      "working on dictionary ella-rae-lace-merino\n",
      "working on dictionary knit-picks-cotlin\n",
      "working on dictionary lion-brand-amazing\n",
      "working on dictionary holst-garn-supersoft-100-uld\n",
      "working on dictionary shibui-knits-sock\n",
      "working on dictionary garnstudio-drops-lima\n",
      "working on dictionary malabrigo-yarn-rasta\n",
      "working on dictionary garnstudio-drops-delight\n",
      "working on dictionary caron-simply-soft-brites\n"
     ]
    },
    {
     "name": "stderr",
     "output_type": "stream",
     "text": [
      " 42%|████▏     | 74/178 [00:01<00:02, 46.70it/s]"
     ]
    },
    {
     "name": "stdout",
     "output_type": "stream",
     "text": [
      "working on dictionary plymouth-yarn-encore-worsted-solids--heathers\n",
      "working on dictionary patons-north-america-classic-wool-merino\n",
      "working on dictionary spud--chloe-sweater-worsted\n",
      "working on dictionary lornas-laces-shepherd-sock-multi\n",
      "working on dictionary debbie-bliss-cashmerino-aran\n",
      "working on dictionary knit-picks-felici\n",
      "working on dictionary hedgehog-fibres-sock\n",
      "working on dictionary madelinetosh-tosh-merino-light\n",
      "working on dictionary red-heart-boutique-unforgettable\n",
      "working on dictionary noro-silk-garden-sock\n",
      "working on dictionary cascade-yarns-220-superwash\n",
      "working on dictionary malabrigo-yarn-lace\n"
     ]
    },
    {
     "name": "stderr",
     "output_type": "stream",
     "text": [
      " 48%|████▊     | 85/178 [00:01<00:02, 45.26it/s]"
     ]
    },
    {
     "name": "stdout",
     "output_type": "stream",
     "text": [
      "working on dictionary lion-brand-wool-ease-chunky\n",
      "working on dictionary lion-brand-jiffy-solid\n",
      "working on dictionary james-c-brett-marble-chunky\n",
      "working on dictionary berroco-comfort-dk-solids\n",
      "working on dictionary dream-in-color-smooshy\n",
      "working on dictionary novita-7-veljesta\n",
      "working on dictionary zwerger-garn-opal-4-fach-4-ply\n",
      "working on dictionary knit-picks-palette\n",
      "working on dictionary patons-north-america-kroy-socks\n",
      "working on dictionary garnstudio-drops-fabel\n",
      "working on dictionary knit-picks-stroll-hand-painted\n"
     ]
    },
    {
     "name": "stderr",
     "output_type": "stream",
     "text": [
      " 55%|█████▌    | 98/178 [00:02<00:01, 49.45it/s]"
     ]
    },
    {
     "name": "stdout",
     "output_type": "stream",
     "text": [
      "working on dictionary miss-babs-yummy-2-ply\n",
      "working on dictionary caron-cakes\n",
      "working on dictionary regia-4-fadig-color\n",
      "working on dictionary rauma-finullgarn\n",
      "working on dictionary debbie-bliss-baby-cashmerino\n",
      "working on dictionary cascade-yarns-220-superwash-sport\n",
      "working on dictionary manos-del-uruguay-wool-clasica\n",
      "working on dictionary jamieson--smith-2ply-jumper-weight\n",
      "working on dictionary cascade-yarns-heritage-silk\n",
      "working on dictionary stonehedge-fiber-mill-shepherds-wool-worsted\n"
     ]
    },
    {
     "name": "stderr",
     "output_type": "stream",
     "text": [
      "\r",
      " 58%|█████▊    | 104/178 [00:02<00:01, 51.17it/s]"
     ]
    },
    {
     "name": "stdout",
     "output_type": "stream",
     "text": [
      "working on dictionary loops--threads-charisma\n",
      "working on dictionary pisgah-yarn--dyeing-co-peaches--creme-solids\n",
      "working on dictionary knit-picks-swish-dk\n",
      "working on dictionary malabrigo-yarn-sock\n",
      "working on dictionary tahki-yarns-cotton-classic\n",
      "working on dictionary knit-picks-shadow\n",
      "working on dictionary naturallycaroncom-country\n",
      "working on dictionary red-heart-soft-solids--heathers\n",
      "working on dictionary knit-picks-comfy-worsted\n"
     ]
    },
    {
     "name": "stderr",
     "output_type": "stream",
     "text": [
      " 65%|██████▌   | 116/178 [00:02<00:01, 47.55it/s]"
     ]
    },
    {
     "name": "stdout",
     "output_type": "stream",
     "text": [
      "working on dictionary lion-brand-wool-ease-thick--quick-solids\n",
      "working on dictionary cascade-yarns-eco\n",
      "working on dictionary schoppel-wolle-zauberball\n",
      "working on dictionary pisgah-yarn--dyeing-co-peaches--creme-ombres\n",
      "working on dictionary madelinetosh-pashmina\n",
      "working on dictionary premier-yarns-serenity-sock-prints\n",
      "working on dictionary caron-one-pound\n",
      "working on dictionary sirdar-snuggly-baby-bamboo-double-knitting\n",
      "working on dictionary knit-picks-wool-of-the-andes-worsted\n",
      "working on dictionary cascade-yarns-128-superwash\n",
      "working on dictionary lornas-laces-shepherd-worsted-multi\n"
     ]
    },
    {
     "name": "stderr",
     "output_type": "stream",
     "text": [
      " 71%|███████▏  | 127/178 [00:02<00:01, 50.28it/s]"
     ]
    },
    {
     "name": "stdout",
     "output_type": "stream",
     "text": [
      "working on dictionary rowan-pure-wool-superwash-worsted\n",
      "working on dictionary red-heart-super-saver-multis-prints\n",
      "working on dictionary knit-picks-dishie-solids\n",
      "working on dictionary plymouth-yarn-encore-colorspun-worsted\n",
      "working on dictionary garnstudio-drops-alpaca\n",
      "working on dictionary knit-picks-swish-worsted\n",
      "working on dictionary claudia-hand-painted-yarns-fingering\n",
      "working on dictionary berroco-ultra-alpaca\n",
      "working on dictionary koigu-painters-palette-premium-merino-kpppm\n",
      "working on dictionary red-heart-with-love-solids\n"
     ]
    },
    {
     "name": "stderr",
     "output_type": "stream",
     "text": [
      " 78%|███████▊  | 138/178 [00:02<00:00, 46.56it/s]"
     ]
    },
    {
     "name": "stdout",
     "output_type": "stream",
     "text": [
      "working on dictionary malabrigo-yarn-silky-merino\n",
      "working on dictionary noro-kureyon\n",
      "working on dictionary berroco-comfort-solids--heathers\n",
      "working on dictionary manos-del-uruguay-maxima\n",
      "working on dictionary garnstudio-drops-baby-merino\n",
      "working on dictionary knit-picks-shine-worsted\n",
      "working on dictionary lion-brand-vannas-choice-baby\n",
      "working on dictionary berroco-vintage-chunky\n",
      "working on dictionary malabrigo-yarn-chunky\n",
      "working on dictionary the-plucky-knitter-primo-fingering\n",
      "working on dictionary elsebeth-lavold-silky-wool\n"
     ]
    },
    {
     "name": "stderr",
     "output_type": "stream",
     "text": [
      " 85%|████████▍ | 151/178 [00:03<00:00, 52.56it/s]"
     ]
    },
    {
     "name": "stdout",
     "output_type": "stream",
     "text": [
      "working on dictionary malabrigo-yarn-mecha-2\n",
      "working on dictionary rowan-kidsilk-haze\n",
      "working on dictionary malabrigo-yarn-worsted\n",
      "working on dictionary lion-brand-heartland\n",
      "working on dictionary berroco-vintage\n",
      "working on dictionary brooklyn-tweed-loft\n",
      "working on dictionary ella-rae-classic-solids-heathers--marls\n",
      "working on dictionary jamiesons-of-shetland-shetland-spindrift\n",
      "working on dictionary bernat-satin-solids\n",
      "working on dictionary sandnes-garn-sisu-solids\n",
      "working on dictionary patons-north-america-classic-wool-worsted\n"
     ]
    },
    {
     "name": "stderr",
     "output_type": "stream",
     "text": [
      "\r",
      " 88%|████████▊ | 157/178 [00:03<00:00, 44.25it/s]"
     ]
    },
    {
     "name": "stdout",
     "output_type": "stream",
     "text": [
      "working on dictionary crystal-palace-yarns-mini-mochi\n",
      "working on dictionary plymouth-yarn-galway-worsted\n",
      "working on dictionary sirdar-snuggly-dk\n",
      "working on dictionary schoppel-wolle-zauberball-crazy\n",
      "working on dictionary knit-picks-chroma-worsted\n",
      "working on dictionary rohrspatz--wollmeise-pure-100-merino-superwash\n",
      "working on dictionary madelinetosh-twist-light\n",
      "working on dictionary garnstudio-drops-merino-extra-fine\n",
      "working on dictionary lion-brand-wool-ease-solids-heathers--twists\n"
     ]
    },
    {
     "name": "stderr",
     "output_type": "stream",
     "text": [
      " 95%|█████████▍| 169/178 [00:03<00:00, 48.75it/s]"
     ]
    },
    {
     "name": "stdout",
     "output_type": "stream",
     "text": [
      "working on dictionary hobby-lobby-i-love-this-yarn\n",
      "working on dictionary colinette-jitterbug\n",
      "working on dictionary miss-babs-yowza\n",
      "working on dictionary noro-silk-garden\n",
      "working on dictionary garnstudio-drops-eskimo\n",
      "working on dictionary madelinetosh-tosh-vintage\n",
      "working on dictionary lion-brand-homespun\n",
      "working on dictionary loops--threads-woolike\n",
      "working on dictionary novita-nalle\n",
      "working on dictionary manos-del-uruguay-alegria\n",
      "working on dictionary lion-brand-fishermens-wool\n",
      "working on dictionary garnstudio-drops-nepal\n"
     ]
    },
    {
     "name": "stderr",
     "output_type": "stream",
     "text": [
      "100%|██████████| 178/178 [00:03<00:00, 46.85it/s]"
     ]
    },
    {
     "name": "stdout",
     "output_type": "stream",
     "text": [
      "working on dictionary dream-in-color-classy\n",
      "working on dictionary cascade-yarns-ecological-wool\n",
      "working on dictionary bernat-softee-baby-solids--marls\n",
      "working on dictionary patons-north-america-kroy-socks-fx\n"
     ]
    },
    {
     "name": "stderr",
     "output_type": "stream",
     "text": [
      "\n"
     ]
    }
   ],
   "source": [
    "yData ={}\n",
    "decomp = {}\n",
    "#print(new_dict)\n",
    "try:\n",
    "    del new_dict['caron-simply-soft-tweeds-2']\n",
    "except KeyError:\n",
    "    print(\"Key 'testing' not found\")\n",
    "try:\n",
    "    del new_dict['red-heart-super-saver-solids']\n",
    "except KeyError:\n",
    "    print(\"Key 'testing' not found\")\n",
    "try:\n",
    "    del new_dict['malabrigo-yarn-rios']\n",
    "except KeyError:\n",
    "    print(\"Key 'testing' not found\")\n",
    "\n",
    "for yname in tqdm(new_dict):\n",
    "    print(f'working on dictionary {yname}')\n",
    "    df1 =pd.DataFrame(new_dict[yname][1:-1])\n",
    "    df2 = df1.reset_index()\n",
    "    df2 = df2.rename(columns={'index':'Date'})\n",
    "    df2 = df2[df2.Date != 'In progress']\n",
    "    df2 = df2[df2.Date != 'Hibernating']\n",
    "    df2 = df2[df2.Date != 'Frogged']\n",
    "    df2 = df2[df2.Date != 'Finished']\n",
    "    df2['Date'] = pd.to_datetime(df2['Date'], dayfirst=True, errors='coerce')\n",
    "\n",
    "    df2= df2.set_index('Date')#,inplace=True)\n",
    "    #df2.index.freq = '-1MS'\n",
    "    df2=df2.sort_index()\n",
    "    cleandf2 = df2.dropna()\n",
    "    try:\n",
    "        slicedf2 = cleandf2\n",
    "        result = seasonal_decompose(slicedf2['Project Count'], model='add')\n",
    "    except:\n",
    "        slicedf2 = cleandf2['2017-01-01':'2019-08-01']\n",
    "        result = seasonal_decompose(slicedf2['Project Count'], model='add')\n",
    "    #print(df2['Project Count'],'\\n')\n",
    "    #slicedf2.index.freq = 'MS'\n",
    "    #freqdf2 = slicedf2.asfreq('-1MS').index\n",
    "    \n",
    "    decomp[yname]= result\n",
    "    yData[yname]=slicedf2\n",
    "    #dict_name[yname] = {'key1' = result, 'key2' = slicedf2}\n",
    "    \n",
    "    "
   ]
  },
  {
   "cell_type": "code",
   "execution_count": 7,
   "metadata": {},
   "outputs": [],
   "source": [
    "from sklearn.linear_model import LinearRegression\n",
    "\n",
    "slope = {}\n",
    "x_dates = {}\n",
    "y_predicted ={}\n",
    "for tr in decomp:\n",
    "    x = decomp[tr].trend.index.values\n",
    "    y = decomp[tr].trend.values\n",
    "\n",
    "    trend_pd = pd.DataFrame({'date':x, 'trend':y})\n",
    "    trend_pd = trend_pd.dropna()\n",
    "    \n",
    "    model = LinearRegression()\n",
    "    #model.fit(X.iloc[train,:], y.iloc[train,:])\n",
    "    x = trend_pd.iloc[:,0].values.astype('datetime64[M]').astype(int)\n",
    "    y = trend_pd.iloc[:,1].values\n",
    "    x = x.reshape(-1,1)\n",
    "    slope[tr] = model.fit(x, y) # fitting\n",
    "    \n",
    "    # compute predicted values from fit\n",
    "    x_dates[tr] = x\n",
    "    y_predicted[tr] = model.predict(x) # for i in x: model.predict(i)\n",
    "    #model.predict(x)\n",
    "    #print(slope.coef_)"
   ]
  },
  {
   "cell_type": "code",
   "execution_count": 8,
   "metadata": {},
   "outputs": [
    {
     "name": "stdout",
     "output_type": "stream",
     "text": [
      "{'rohrspatz--wollmeise-sockenwolle-80-20-twin': LinearRegression(copy_X=True, fit_intercept=True, n_jobs=None, normalize=False), 'blue-moon-fiber-arts-socks-that-rock-lightweight': LinearRegression(copy_X=True, fit_intercept=True, n_jobs=None, normalize=False), 'cascade-yarns-heritage-paints': LinearRegression(copy_X=True, fit_intercept=True, n_jobs=None, normalize=False), 'cascade-yarns-heritage': LinearRegression(copy_X=True, fit_intercept=True, n_jobs=None, normalize=False), 'lion-brand-pound-of-love': LinearRegression(copy_X=True, fit_intercept=True, n_jobs=None, normalize=False), 'knit-picks-brava-worsted': LinearRegression(copy_X=True, fit_intercept=True, n_jobs=None, normalize=False), 'brown-sheep-nature-spun-worsted': LinearRegression(copy_X=True, fit_intercept=True, n_jobs=None, normalize=False), 'lion-brand-mandala': LinearRegression(copy_X=True, fit_intercept=True, n_jobs=None, normalize=False), 'noro-kureyon-sock-': LinearRegression(copy_X=True, fit_intercept=True, n_jobs=None, normalize=False), 'malabrigo-yarn-mechita': LinearRegression(copy_X=True, fit_intercept=True, n_jobs=None, normalize=False), 'madelinetosh-tosh-merino-dk': LinearRegression(copy_X=True, fit_intercept=True, n_jobs=None, normalize=False), 'rohrspatz--wollmeise-lace-garn': LinearRegression(copy_X=True, fit_intercept=True, n_jobs=None, normalize=False), 'manos-del-uruguay-silk-blend': LinearRegression(copy_X=True, fit_intercept=True, n_jobs=None, normalize=False), 'filcolana-arwetta-classic': LinearRegression(copy_X=True, fit_intercept=True, n_jobs=None, normalize=False), 'brown-sheep-lambs-pride-bulky': LinearRegression(copy_X=True, fit_intercept=True, n_jobs=None, normalize=False), 'patons-north-america-grace': LinearRegression(copy_X=True, fit_intercept=True, n_jobs=None, normalize=False), 'garnstudio-drops-karisma': LinearRegression(copy_X=True, fit_intercept=True, n_jobs=None, normalize=False), 'berroco-ultra-alpaca-fine': LinearRegression(copy_X=True, fit_intercept=True, n_jobs=None, normalize=False), 'madelinetosh-tosh-dk': LinearRegression(copy_X=True, fit_intercept=True, n_jobs=None, normalize=False), 'cascade-yarns-cascade-220-heathers': LinearRegression(copy_X=True, fit_intercept=True, n_jobs=None, normalize=False), 'bernat-handicrafter-cotton-solids': LinearRegression(copy_X=True, fit_intercept=True, n_jobs=None, normalize=False), 'knit-picks-stroll-tonal': LinearRegression(copy_X=True, fit_intercept=True, n_jobs=None, normalize=False), 'lily-sugarn-cream-stripes': LinearRegression(copy_X=True, fit_intercept=True, n_jobs=None, normalize=False), 'premier-yarns-everyday-worsted-solids-marls-heathers': LinearRegression(copy_X=True, fit_intercept=True, n_jobs=None, normalize=False), 'sweetgeorgia-yarns-tough-love-sock': LinearRegression(copy_X=True, fit_intercept=True, n_jobs=None, normalize=False), 'istex-lettlopi': LinearRegression(copy_X=True, fit_intercept=True, n_jobs=None, normalize=False), 'zitron-trekking-xxl': LinearRegression(copy_X=True, fit_intercept=True, n_jobs=None, normalize=False), 'garnstudio-drops-kid-silk': LinearRegression(copy_X=True, fit_intercept=True, n_jobs=None, normalize=False), 'lion-brand-vannas-choice': LinearRegression(copy_X=True, fit_intercept=True, n_jobs=None, normalize=False), 'lion-brand-hometown-usa-solids--neons': LinearRegression(copy_X=True, fit_intercept=True, n_jobs=None, normalize=False), 'brown-sheep-lambs-pride-worsted': LinearRegression(copy_X=True, fit_intercept=True, n_jobs=None, normalize=False), 'cascade-yarns-cascade-220': LinearRegression(copy_X=True, fit_intercept=True, n_jobs=None, normalize=False), 'lily-sugarn-cream-solids--denim': LinearRegression(copy_X=True, fit_intercept=True, n_jobs=None, normalize=False), 'kauni-wool-8-2-effektgarn': LinearRegression(copy_X=True, fit_intercept=True, n_jobs=None, normalize=False), 'stylecraft-special-double-knit': LinearRegression(copy_X=True, fit_intercept=True, n_jobs=None, normalize=False), 'madelinetosh-tosh-sock': LinearRegression(copy_X=True, fit_intercept=True, n_jobs=None, normalize=False), 'loops--threads-impeccable-solids': LinearRegression(copy_X=True, fit_intercept=True, n_jobs=None, normalize=False), 'garnstudio-drops-cotton-merino': LinearRegression(copy_X=True, fit_intercept=True, n_jobs=None, normalize=False), 'dale-garn-baby-ull': LinearRegression(copy_X=True, fit_intercept=True, n_jobs=None, normalize=False), 'knit-picks-chroma-fingering': LinearRegression(copy_X=True, fit_intercept=True, n_jobs=None, normalize=False), 'blue-moon-fiber-arts-socks-that-rock-mediumweight': LinearRegression(copy_X=True, fit_intercept=True, n_jobs=None, normalize=False), 'lion-brand-cotton-ease': LinearRegression(copy_X=True, fit_intercept=True, n_jobs=None, normalize=False), 'knit-picks-stroll-solids-heathers--twists': LinearRegression(copy_X=True, fit_intercept=True, n_jobs=None, normalize=False), 'lily-sugarn-cream-ombres': LinearRegression(copy_X=True, fit_intercept=True, n_jobs=None, normalize=False), 'malabrigo-yarn-arroyo': LinearRegression(copy_X=True, fit_intercept=True, n_jobs=None, normalize=False), 'hazel-knits-artisan-sock': LinearRegression(copy_X=True, fit_intercept=True, n_jobs=None, normalize=False), 'knit-picks-shine-sport': LinearRegression(copy_X=True, fit_intercept=True, n_jobs=None, normalize=False), 'rohrspatz--wollmeise-merino-dk': LinearRegression(copy_X=True, fit_intercept=True, n_jobs=None, normalize=False), 'brooklyn-tweed-shelter': LinearRegression(copy_X=True, fit_intercept=True, n_jobs=None, normalize=False), 'cascade-yarns-ultra-pima': LinearRegression(copy_X=True, fit_intercept=True, n_jobs=None, normalize=False), 'rowan-felted-tweed': LinearRegression(copy_X=True, fit_intercept=True, n_jobs=None, normalize=False), 'regia-4-fadig-solids-heathers--moulines': LinearRegression(copy_X=True, fit_intercept=True, n_jobs=None, normalize=False), 'knit-picks-gloss-fingering': LinearRegression(copy_X=True, fit_intercept=True, n_jobs=None, normalize=False), 'brown-sheep-cotton-fleece': LinearRegression(copy_X=True, fit_intercept=True, n_jobs=None, normalize=False), 'hobby-lobby-i-love-this-cotton': LinearRegression(copy_X=True, fit_intercept=True, n_jobs=None, normalize=False), 'blue-sky-fibers-worsted-cotton': LinearRegression(copy_X=True, fit_intercept=True, n_jobs=None, normalize=False), 'berroco-vintage-dk': LinearRegression(copy_X=True, fit_intercept=True, n_jobs=None, normalize=False), 'aunt-lydias-classic-crochet-size-10': LinearRegression(copy_X=True, fit_intercept=True, n_jobs=None, normalize=False), 'garnstudio-drops-baby-alpaca-silk': LinearRegression(copy_X=True, fit_intercept=True, n_jobs=None, normalize=False), 'ella-rae-lace-merino': LinearRegression(copy_X=True, fit_intercept=True, n_jobs=None, normalize=False), 'knit-picks-cotlin': LinearRegression(copy_X=True, fit_intercept=True, n_jobs=None, normalize=False), 'lion-brand-amazing': LinearRegression(copy_X=True, fit_intercept=True, n_jobs=None, normalize=False), 'holst-garn-supersoft-100-uld': LinearRegression(copy_X=True, fit_intercept=True, n_jobs=None, normalize=False), 'shibui-knits-sock': LinearRegression(copy_X=True, fit_intercept=True, n_jobs=None, normalize=False), 'garnstudio-drops-lima': LinearRegression(copy_X=True, fit_intercept=True, n_jobs=None, normalize=False), 'malabrigo-yarn-rasta': LinearRegression(copy_X=True, fit_intercept=True, n_jobs=None, normalize=False), 'garnstudio-drops-delight': LinearRegression(copy_X=True, fit_intercept=True, n_jobs=None, normalize=False), 'caron-simply-soft-brites': LinearRegression(copy_X=True, fit_intercept=True, n_jobs=None, normalize=False), 'plymouth-yarn-encore-worsted-solids--heathers': LinearRegression(copy_X=True, fit_intercept=True, n_jobs=None, normalize=False), 'patons-north-america-classic-wool-merino': LinearRegression(copy_X=True, fit_intercept=True, n_jobs=None, normalize=False), 'spud--chloe-sweater-worsted': LinearRegression(copy_X=True, fit_intercept=True, n_jobs=None, normalize=False), 'lornas-laces-shepherd-sock-multi': LinearRegression(copy_X=True, fit_intercept=True, n_jobs=None, normalize=False), 'debbie-bliss-cashmerino-aran': LinearRegression(copy_X=True, fit_intercept=True, n_jobs=None, normalize=False), 'knit-picks-felici': LinearRegression(copy_X=True, fit_intercept=True, n_jobs=None, normalize=False), 'hedgehog-fibres-sock': LinearRegression(copy_X=True, fit_intercept=True, n_jobs=None, normalize=False), 'madelinetosh-tosh-merino-light': LinearRegression(copy_X=True, fit_intercept=True, n_jobs=None, normalize=False), 'red-heart-boutique-unforgettable': LinearRegression(copy_X=True, fit_intercept=True, n_jobs=None, normalize=False), 'noro-silk-garden-sock': LinearRegression(copy_X=True, fit_intercept=True, n_jobs=None, normalize=False), 'cascade-yarns-220-superwash': LinearRegression(copy_X=True, fit_intercept=True, n_jobs=None, normalize=False), 'malabrigo-yarn-lace': LinearRegression(copy_X=True, fit_intercept=True, n_jobs=None, normalize=False), 'lion-brand-wool-ease-chunky': LinearRegression(copy_X=True, fit_intercept=True, n_jobs=None, normalize=False), 'lion-brand-jiffy-solid': LinearRegression(copy_X=True, fit_intercept=True, n_jobs=None, normalize=False), 'james-c-brett-marble-chunky': LinearRegression(copy_X=True, fit_intercept=True, n_jobs=None, normalize=False), 'berroco-comfort-dk-solids': LinearRegression(copy_X=True, fit_intercept=True, n_jobs=None, normalize=False), 'dream-in-color-smooshy': LinearRegression(copy_X=True, fit_intercept=True, n_jobs=None, normalize=False), 'novita-7-veljesta': LinearRegression(copy_X=True, fit_intercept=True, n_jobs=None, normalize=False), 'zwerger-garn-opal-4-fach-4-ply': LinearRegression(copy_X=True, fit_intercept=True, n_jobs=None, normalize=False), 'knit-picks-palette': LinearRegression(copy_X=True, fit_intercept=True, n_jobs=None, normalize=False), 'patons-north-america-kroy-socks': LinearRegression(copy_X=True, fit_intercept=True, n_jobs=None, normalize=False), 'garnstudio-drops-fabel': LinearRegression(copy_X=True, fit_intercept=True, n_jobs=None, normalize=False), 'knit-picks-stroll-hand-painted': LinearRegression(copy_X=True, fit_intercept=True, n_jobs=None, normalize=False), 'miss-babs-yummy-2-ply': LinearRegression(copy_X=True, fit_intercept=True, n_jobs=None, normalize=False), 'caron-cakes': LinearRegression(copy_X=True, fit_intercept=True, n_jobs=None, normalize=False), 'regia-4-fadig-color': LinearRegression(copy_X=True, fit_intercept=True, n_jobs=None, normalize=False), 'rauma-finullgarn': LinearRegression(copy_X=True, fit_intercept=True, n_jobs=None, normalize=False), 'debbie-bliss-baby-cashmerino': LinearRegression(copy_X=True, fit_intercept=True, n_jobs=None, normalize=False), 'cascade-yarns-220-superwash-sport': LinearRegression(copy_X=True, fit_intercept=True, n_jobs=None, normalize=False), 'manos-del-uruguay-wool-clasica': LinearRegression(copy_X=True, fit_intercept=True, n_jobs=None, normalize=False), 'jamieson--smith-2ply-jumper-weight': LinearRegression(copy_X=True, fit_intercept=True, n_jobs=None, normalize=False), 'cascade-yarns-heritage-silk': LinearRegression(copy_X=True, fit_intercept=True, n_jobs=None, normalize=False), 'stonehedge-fiber-mill-shepherds-wool-worsted': LinearRegression(copy_X=True, fit_intercept=True, n_jobs=None, normalize=False), 'loops--threads-charisma': LinearRegression(copy_X=True, fit_intercept=True, n_jobs=None, normalize=False), 'pisgah-yarn--dyeing-co-peaches--creme-solids': LinearRegression(copy_X=True, fit_intercept=True, n_jobs=None, normalize=False), 'knit-picks-swish-dk': LinearRegression(copy_X=True, fit_intercept=True, n_jobs=None, normalize=False), 'malabrigo-yarn-sock': LinearRegression(copy_X=True, fit_intercept=True, n_jobs=None, normalize=False), 'tahki-yarns-cotton-classic': LinearRegression(copy_X=True, fit_intercept=True, n_jobs=None, normalize=False), 'knit-picks-shadow': LinearRegression(copy_X=True, fit_intercept=True, n_jobs=None, normalize=False), 'naturallycaroncom-country': LinearRegression(copy_X=True, fit_intercept=True, n_jobs=None, normalize=False), 'red-heart-soft-solids--heathers': LinearRegression(copy_X=True, fit_intercept=True, n_jobs=None, normalize=False), 'knit-picks-comfy-worsted': LinearRegression(copy_X=True, fit_intercept=True, n_jobs=None, normalize=False), 'lion-brand-wool-ease-thick--quick-solids': LinearRegression(copy_X=True, fit_intercept=True, n_jobs=None, normalize=False), 'cascade-yarns-eco': LinearRegression(copy_X=True, fit_intercept=True, n_jobs=None, normalize=False), 'schoppel-wolle-zauberball': LinearRegression(copy_X=True, fit_intercept=True, n_jobs=None, normalize=False), 'pisgah-yarn--dyeing-co-peaches--creme-ombres': LinearRegression(copy_X=True, fit_intercept=True, n_jobs=None, normalize=False), 'madelinetosh-pashmina': LinearRegression(copy_X=True, fit_intercept=True, n_jobs=None, normalize=False), 'premier-yarns-serenity-sock-prints': LinearRegression(copy_X=True, fit_intercept=True, n_jobs=None, normalize=False), 'caron-one-pound': LinearRegression(copy_X=True, fit_intercept=True, n_jobs=None, normalize=False), 'sirdar-snuggly-baby-bamboo-double-knitting': LinearRegression(copy_X=True, fit_intercept=True, n_jobs=None, normalize=False), 'knit-picks-wool-of-the-andes-worsted': LinearRegression(copy_X=True, fit_intercept=True, n_jobs=None, normalize=False), 'cascade-yarns-128-superwash': LinearRegression(copy_X=True, fit_intercept=True, n_jobs=None, normalize=False), 'lornas-laces-shepherd-worsted-multi': LinearRegression(copy_X=True, fit_intercept=True, n_jobs=None, normalize=False), 'rowan-pure-wool-superwash-worsted': LinearRegression(copy_X=True, fit_intercept=True, n_jobs=None, normalize=False), 'red-heart-super-saver-multis-prints': LinearRegression(copy_X=True, fit_intercept=True, n_jobs=None, normalize=False), 'knit-picks-dishie-solids': LinearRegression(copy_X=True, fit_intercept=True, n_jobs=None, normalize=False), 'plymouth-yarn-encore-colorspun-worsted': LinearRegression(copy_X=True, fit_intercept=True, n_jobs=None, normalize=False), 'garnstudio-drops-alpaca': LinearRegression(copy_X=True, fit_intercept=True, n_jobs=None, normalize=False), 'knit-picks-swish-worsted': LinearRegression(copy_X=True, fit_intercept=True, n_jobs=None, normalize=False), 'claudia-hand-painted-yarns-fingering': LinearRegression(copy_X=True, fit_intercept=True, n_jobs=None, normalize=False), 'berroco-ultra-alpaca': LinearRegression(copy_X=True, fit_intercept=True, n_jobs=None, normalize=False), 'koigu-painters-palette-premium-merino-kpppm': LinearRegression(copy_X=True, fit_intercept=True, n_jobs=None, normalize=False), 'red-heart-with-love-solids': LinearRegression(copy_X=True, fit_intercept=True, n_jobs=None, normalize=False), 'malabrigo-yarn-silky-merino': LinearRegression(copy_X=True, fit_intercept=True, n_jobs=None, normalize=False), 'noro-kureyon': LinearRegression(copy_X=True, fit_intercept=True, n_jobs=None, normalize=False), 'berroco-comfort-solids--heathers': LinearRegression(copy_X=True, fit_intercept=True, n_jobs=None, normalize=False), 'manos-del-uruguay-maxima': LinearRegression(copy_X=True, fit_intercept=True, n_jobs=None, normalize=False), 'garnstudio-drops-baby-merino': LinearRegression(copy_X=True, fit_intercept=True, n_jobs=None, normalize=False), 'knit-picks-shine-worsted': LinearRegression(copy_X=True, fit_intercept=True, n_jobs=None, normalize=False), 'lion-brand-vannas-choice-baby': LinearRegression(copy_X=True, fit_intercept=True, n_jobs=None, normalize=False), 'berroco-vintage-chunky': LinearRegression(copy_X=True, fit_intercept=True, n_jobs=None, normalize=False), 'malabrigo-yarn-chunky': LinearRegression(copy_X=True, fit_intercept=True, n_jobs=None, normalize=False), 'the-plucky-knitter-primo-fingering': LinearRegression(copy_X=True, fit_intercept=True, n_jobs=None, normalize=False), 'elsebeth-lavold-silky-wool': LinearRegression(copy_X=True, fit_intercept=True, n_jobs=None, normalize=False), 'malabrigo-yarn-mecha-2': LinearRegression(copy_X=True, fit_intercept=True, n_jobs=None, normalize=False), 'rowan-kidsilk-haze': LinearRegression(copy_X=True, fit_intercept=True, n_jobs=None, normalize=False), 'malabrigo-yarn-worsted': LinearRegression(copy_X=True, fit_intercept=True, n_jobs=None, normalize=False), 'lion-brand-heartland': LinearRegression(copy_X=True, fit_intercept=True, n_jobs=None, normalize=False), 'berroco-vintage': LinearRegression(copy_X=True, fit_intercept=True, n_jobs=None, normalize=False), 'brooklyn-tweed-loft': LinearRegression(copy_X=True, fit_intercept=True, n_jobs=None, normalize=False), 'ella-rae-classic-solids-heathers--marls': LinearRegression(copy_X=True, fit_intercept=True, n_jobs=None, normalize=False), 'jamiesons-of-shetland-shetland-spindrift': LinearRegression(copy_X=True, fit_intercept=True, n_jobs=None, normalize=False), 'bernat-satin-solids': LinearRegression(copy_X=True, fit_intercept=True, n_jobs=None, normalize=False), 'sandnes-garn-sisu-solids': LinearRegression(copy_X=True, fit_intercept=True, n_jobs=None, normalize=False), 'patons-north-america-classic-wool-worsted': LinearRegression(copy_X=True, fit_intercept=True, n_jobs=None, normalize=False), 'crystal-palace-yarns-mini-mochi': LinearRegression(copy_X=True, fit_intercept=True, n_jobs=None, normalize=False), 'plymouth-yarn-galway-worsted': LinearRegression(copy_X=True, fit_intercept=True, n_jobs=None, normalize=False), 'sirdar-snuggly-dk': LinearRegression(copy_X=True, fit_intercept=True, n_jobs=None, normalize=False), 'schoppel-wolle-zauberball-crazy': LinearRegression(copy_X=True, fit_intercept=True, n_jobs=None, normalize=False), 'knit-picks-chroma-worsted': LinearRegression(copy_X=True, fit_intercept=True, n_jobs=None, normalize=False), 'rohrspatz--wollmeise-pure-100-merino-superwash': LinearRegression(copy_X=True, fit_intercept=True, n_jobs=None, normalize=False), 'madelinetosh-twist-light': LinearRegression(copy_X=True, fit_intercept=True, n_jobs=None, normalize=False), 'garnstudio-drops-merino-extra-fine': LinearRegression(copy_X=True, fit_intercept=True, n_jobs=None, normalize=False), 'lion-brand-wool-ease-solids-heathers--twists': LinearRegression(copy_X=True, fit_intercept=True, n_jobs=None, normalize=False), 'hobby-lobby-i-love-this-yarn': LinearRegression(copy_X=True, fit_intercept=True, n_jobs=None, normalize=False), 'colinette-jitterbug': LinearRegression(copy_X=True, fit_intercept=True, n_jobs=None, normalize=False), 'miss-babs-yowza': LinearRegression(copy_X=True, fit_intercept=True, n_jobs=None, normalize=False), 'noro-silk-garden': LinearRegression(copy_X=True, fit_intercept=True, n_jobs=None, normalize=False), 'garnstudio-drops-eskimo': LinearRegression(copy_X=True, fit_intercept=True, n_jobs=None, normalize=False), 'madelinetosh-tosh-vintage': LinearRegression(copy_X=True, fit_intercept=True, n_jobs=None, normalize=False), 'lion-brand-homespun': LinearRegression(copy_X=True, fit_intercept=True, n_jobs=None, normalize=False), 'loops--threads-woolike': LinearRegression(copy_X=True, fit_intercept=True, n_jobs=None, normalize=False), 'novita-nalle': LinearRegression(copy_X=True, fit_intercept=True, n_jobs=None, normalize=False), 'manos-del-uruguay-alegria': LinearRegression(copy_X=True, fit_intercept=True, n_jobs=None, normalize=False), 'lion-brand-fishermens-wool': LinearRegression(copy_X=True, fit_intercept=True, n_jobs=None, normalize=False), 'garnstudio-drops-nepal': LinearRegression(copy_X=True, fit_intercept=True, n_jobs=None, normalize=False), 'dream-in-color-classy': LinearRegression(copy_X=True, fit_intercept=True, n_jobs=None, normalize=False), 'cascade-yarns-ecological-wool': LinearRegression(copy_X=True, fit_intercept=True, n_jobs=None, normalize=False), 'bernat-softee-baby-solids--marls': LinearRegression(copy_X=True, fit_intercept=True, n_jobs=None, normalize=False), 'patons-north-america-kroy-socks-fx': LinearRegression(copy_X=True, fit_intercept=True, n_jobs=None, normalize=False)}\n"
     ]
    }
   ],
   "source": [
    "print(slope)"
   ]
  },
  {
   "cell_type": "code",
   "execution_count": 9,
   "metadata": {},
   "outputs": [
    {
     "name": "stdout",
     "output_type": "stream",
     "text": [
      "madelinetosh-tosh-merino-light: -12.579166666666678\n",
      "caron-cakes: -12.113095238095239\n",
      "lion-brand-vannas-choice: -10.759848484848487\n",
      "cascade-yarns-220-superwash: -9.41180555555556\n",
      "garnstudio-drops-fabel: -7.727418414918412\n",
      "knit-picks-felici: -5.357128267973857\n",
      "malabrigo-yarn-sock: -5.129464285714287\n",
      "rohrspatz--wollmeise-pure-100-merino-superwash: -5.121941464332767\n",
      "lily-sugarn-cream-solids--denim: -4.956876456876455\n",
      "hedgehog-fibres-sock: -4.883974358974359\n",
      "malabrigo-yarn-worsted: -4.846929824561403\n",
      "red-heart-boutique-unforgettable: -4.767058823529411\n",
      "cascade-yarns-cascade-220: -4.642045454545454\n",
      "madelinetosh-tosh-sock: -4.078057795698923\n",
      "red-heart-super-saver-multis-prints: -3.524789915966386\n",
      "cascade-yarns-heritage: -3.4702818627450975\n",
      "stylecraft-special-double-knit: -3.182692307692307\n",
      "garnstudio-drops-alpaca: -2.9297713156408807\n",
      "rowan-pure-wool-superwash-worsted: -2.9285714285714284\n",
      "madelinetosh-tosh-vintage: -2.9262768817204297\n",
      "madelinetosh-tosh-dk: -2.8339826839826827\n",
      "patons-north-america-classic-wool-worsted: -2.795457393483711\n",
      "berroco-vintage: -2.675370370370368\n",
      "red-heart-soft-solids--heathers: -2.6695017385806854\n",
      "lion-brand-homespun: -2.635950672134882\n",
      "the-plucky-knitter-primo-fingering: -2.584931077694236\n",
      "hobby-lobby-i-love-this-yarn: -2.528117715617714\n",
      "cascade-yarns-cascade-220-heathers: -2.5170912756598254\n",
      "lion-brand-cotton-ease: -2.501926593521421\n",
      "lion-brand-wool-ease-solids-heathers--twists: -2.481317204301074\n",
      "rohrspatz--wollmeise-sockenwolle-80-20-twin: -2.477066864295125\n",
      "lion-brand-heartland: -2.424705801860975\n",
      "knit-picks-palette: -2.348997493734336\n",
      "noro-silk-garden: -2.277896945752521\n",
      "lion-brand-amazing: -2.230611520082655\n",
      "red-heart-with-love-solids: -2.1866161616161626\n",
      "lion-brand-fishermens-wool: -2.18400895979021\n",
      "rohrspatz--wollmeise-merino-dk: -2.168650793650794\n",
      "noro-kureyon: -2.1293428954969387\n",
      "bernat-satin-solids: -2.098595352016404\n",
      "knit-picks-stroll-solids-heathers--twists: -2.034502923976609\n",
      "debbie-bliss-baby-cashmerino: -1.999877951180472\n",
      "loops--threads-charisma: -1.9511033166693545\n",
      "patons-north-america-classic-wool-merino: -1.9454412172680056\n",
      "berroco-ultra-alpaca: -1.8266506706753007\n",
      "plymouth-yarn-encore-worsted-solids--heathers: -1.8220766129032273\n",
      "blue-moon-fiber-arts-socks-that-rock-lightweight: -1.7812585232807325\n",
      "noro-kureyon-sock-: -1.7204780259826133\n",
      "knit-picks-swish-worsted: -1.6920125164690385\n",
      "bernat-softee-baby-solids--marls: -1.6255501443001443\n",
      "rohrspatz--wollmeise-lace-garn: -1.6219672709509332\n",
      "lion-brand-hometown-usa-solids--neons: -1.574342233432793\n",
      "pisgah-yarn--dyeing-co-peaches--creme-solids: -1.5685300207039332\n",
      "miss-babs-yummy-2-ply: -1.5566416040100253\n",
      "brown-sheep-lambs-pride-worsted: -1.5089492377683773\n",
      "pisgah-yarn--dyeing-co-peaches--creme-ombres: -1.4657728133427692\n",
      "berroco-comfort-solids--heathers: -1.4400952423104323\n",
      "premier-yarns-serenity-sock-prints: -1.4395529049010058\n",
      "brown-sheep-lambs-pride-bulky: -1.3927429301821286\n",
      "madelinetosh-pashmina: -1.3867720210149794\n",
      "spud--chloe-sweater-worsted: -1.3479999469129906\n",
      "manos-del-uruguay-silk-blend: -1.2667023363652579\n",
      "colinette-jitterbug: -1.2608651499706547\n",
      "knit-picks-dishie-solids: -1.260557644110275\n",
      "manos-del-uruguay-wool-clasica: -1.237384295683536\n",
      "cascade-yarns-heritage-paints: -1.2219298245614034\n",
      "knit-picks-brava-worsted: -1.205294221282593\n",
      "cascade-yarns-ecological-wool: -1.1862238638554425\n",
      "schoppel-wolle-zauberball-crazy: -1.171234772978959\n",
      "noro-silk-garden-sock: -1.1668591545048281\n",
      "schoppel-wolle-zauberball: -1.1614312013634316\n",
      "malabrigo-yarn-silky-merino: -1.1476320760862486\n",
      "debbie-bliss-cashmerino-aran: -1.132423930450698\n",
      "manos-del-uruguay-maxima: -1.1234335839599\n",
      "garnstudio-drops-nepal: -1.0913992869875222\n",
      "malabrigo-yarn-lace: -1.0570206830298632\n",
      "ella-rae-lace-merino: -1.0534461152882204\n",
      "cascade-yarns-220-superwash-sport: -1.037312898072392\n",
      "dream-in-color-smooshy: -1.0178838951310858\n",
      "dream-in-color-classy: -1.0174890846130686\n",
      "bernat-handicrafter-cotton-solids: -0.9761478731661382\n",
      "blue-sky-fibers-worsted-cotton: -0.9689895183986953\n",
      "knit-picks-comfy-worsted: -0.9637314620460689\n",
      "crystal-palace-yarns-mini-mochi: -0.9542606516290729\n",
      "garnstudio-drops-cotton-merino: -0.9537593984962406\n",
      "koigu-painters-palette-premium-merino-kpppm: -0.9239631446348815\n",
      "malabrigo-yarn-rasta: -0.9199733180865256\n",
      "knit-picks-chroma-worsted: -0.8760964912280703\n",
      "blue-moon-fiber-arts-socks-that-rock-mediumweight: -0.8696863665613667\n",
      "regia-4-fadig-solids-heathers--moulines: -0.8211779448621558\n",
      "premier-yarns-everyday-worsted-solids-marls-heathers: -0.8028508771929825\n",
      "cascade-yarns-ultra-pima: -0.782481310027403\n",
      "lily-sugarn-cream-stripes: -0.7593510263321585\n",
      "cascade-yarns-heritage-silk: -0.7480263157894737\n",
      "lily-sugarn-cream-ombres: -0.7154544134727064\n",
      "dale-garn-baby-ull: -0.7147135973033283\n",
      "knit-picks-shine-worsted: -0.7042919799498747\n",
      "claudia-hand-painted-yarns-fingering: -0.6757205513784462\n",
      "madelinetosh-tosh-merino-dk: -0.6731829573934839\n",
      "knit-picks-shine-sport: -0.6671178861788617\n",
      "cascade-yarns-eco: -0.6224121223570239\n",
      "zitron-trekking-xxl: -0.6211388833233153\n",
      "garnstudio-drops-delight: -0.61346741981476\n",
      "lornas-laces-shepherd-sock-multi: -0.6085596167117908\n",
      "kauni-wool-8-2-effektgarn: -0.6076389063825142\n",
      "garnstudio-drops-eskimo: -0.5730576441102755\n",
      "garnstudio-drops-baby-alpaca-silk: -0.5628073999552875\n",
      "knit-picks-wool-of-the-andes-worsted: -0.5507205513784451\n",
      "jamieson--smith-2ply-jumper-weight: -0.5271616541353384\n",
      "malabrigo-yarn-mecha-2: -0.5099624060150378\n",
      "berroco-ultra-alpaca-fine: -0.5096491228070177\n",
      "shibui-knits-sock: -0.4911340852130326\n",
      "knit-picks-swish-dk: -0.4888442147551015\n",
      "regia-4-fadig-color: -0.4858113574442303\n",
      "novita-7-veljesta: -0.4826830587096956\n",
      "rowan-kidsilk-haze: -0.48120360763029774\n",
      "sirdar-snuggly-dk: -0.4514480736282565\n",
      "madelinetosh-twist-light: -0.4486215538847124\n",
      "lion-brand-pound-of-love: -0.4186371214226175\n",
      "elsebeth-lavold-silky-wool: -0.4177312546055957\n",
      "lornas-laces-shepherd-worsted-multi: -0.40971177944862164\n",
      "berroco-vintage-dk: -0.4015902589581452\n",
      "cascade-yarns-128-superwash: -0.40100546368077916\n",
      "garnstudio-drops-baby-merino: -0.39713909279126686\n",
      "lion-brand-vannas-choice-baby: -0.39364035087719307\n",
      "rowan-felted-tweed: -0.38450960438449466\n",
      "lion-brand-wool-ease-chunky: -0.38261278195488724\n",
      "hobby-lobby-i-love-this-cotton: -0.3601504172156346\n",
      "sirdar-snuggly-baby-bamboo-double-knitting: -0.3237468671679199\n",
      "caron-simply-soft-brites: -0.30404135338345867\n",
      "malabrigo-yarn-chunky: -0.2933408295852074\n",
      "knit-picks-chroma-fingering: -0.2770363408521307\n",
      "garnstudio-drops-karisma: -0.2639911014911015\n",
      "brown-sheep-cotton-fleece: -0.25366541353383454\n",
      "berroco-comfort-dk-solids: -0.23743734335839614\n",
      "brown-sheep-nature-spun-worsted: -0.2176065162907267\n",
      "stonehedge-fiber-mill-shepherds-wool-worsted: -0.2005496777024063\n",
      "tahki-yarns-cotton-classic: -0.19169799498746878\n",
      "lion-brand-jiffy-solid: -0.1580513784461153\n",
      "lion-brand-wool-ease-thick--quick-solids: -0.1399376832844579\n",
      "james-c-brett-marble-chunky: -0.13880260577508288\n",
      "naturallycaroncom-country: -0.124812030075188\n",
      "knit-picks-stroll-tonal: -0.11771989670058595\n",
      "ella-rae-classic-solids-heathers--marls: -0.11701127819548883\n",
      "loops--threads-impeccable-solids: -0.11597826086956492\n",
      "knit-picks-cotlin: -0.052437989937989905\n",
      "sandnes-garn-sisu-solids: -0.04536340852130327\n",
      "aunt-lydias-classic-crochet-size-10: -0.043497093673150036\n",
      "knit-picks-gloss-fingering: -0.03577694235588999\n",
      "knit-picks-shadow: -0.0192355889724312\n",
      "berroco-vintage-chunky: -0.0019736842105266324\n",
      "patons-north-america-kroy-socks-fx: 0.0065241604354055755\n",
      "patons-north-america-grace: 0.03164160401002505\n",
      "zwerger-garn-opal-4-fach-4-ply: 0.04880510548859971\n",
      "plymouth-yarn-encore-colorspun-worsted: 0.16864035087719287\n",
      "plymouth-yarn-galway-worsted: 0.20429197994987466\n",
      "caron-one-pound: 0.2628384687208218\n",
      "novita-nalle: 0.3573643018777444\n",
      "holst-garn-supersoft-100-uld: 0.40497513237721616\n",
      "hazel-knits-artisan-sock: 0.42799382551290954\n",
      "knit-picks-stroll-hand-painted: 0.49170217021702184\n",
      "malabrigo-yarn-arroyo: 0.585541744840525\n",
      "miss-babs-yowza: 0.6597155171207479\n",
      "garnstudio-drops-merino-extra-fine: 0.8083256244218315\n",
      "jamiesons-of-shetland-shetland-spindrift: 1.0255673497927928\n",
      "rauma-finullgarn: 1.0654834517479186\n",
      "garnstudio-drops-lima: 1.092960334239404\n",
      "filcolana-arwetta-classic: 1.1756496743093585\n",
      "sweetgeorgia-yarns-tough-love-sock: 1.3795255183413075\n",
      "brooklyn-tweed-shelter: 1.5772014416520557\n",
      "brooklyn-tweed-loft: 1.7085526315789472\n",
      "patons-north-america-kroy-socks: 1.8548599439775908\n",
      "loops--threads-woolike: 2.027109407133204\n",
      "manos-del-uruguay-alegria: 2.362672501620821\n",
      "malabrigo-yarn-mechita: 2.385432330827068\n",
      "lion-brand-mandala: 5.857142857142857\n",
      "istex-lettlopi: 6.109788359788362\n",
      "garnstudio-drops-kid-silk: 6.832236842105265\n"
     ]
    }
   ],
   "source": [
    "trending ={}\n",
    "for key, value in sorted(slope.items(), key=lambda item: item[1].coef_):\n",
    "    print(\"%s: %s\" % (key, value.coef_[0]))\n",
    "    trending[key]=value.coef_[0]"
   ]
  },
  {
   "cell_type": "code",
   "execution_count": 10,
   "metadata": {},
   "outputs": [],
   "source": [
    "trending\n",
    "import pickle\n",
    "f = open(\"yarntrending.pkl\",\"wb\")\n",
    "pickle.dump(trending,f)\n",
    "f.close()\n"
   ]
  },
  {
   "cell_type": "code",
   "execution_count": 11,
   "metadata": {},
   "outputs": [
    {
     "data": {
      "text/html": [
       "<div>\n",
       "<style scoped>\n",
       "    .dataframe tbody tr th:only-of-type {\n",
       "        vertical-align: middle;\n",
       "    }\n",
       "\n",
       "    .dataframe tbody tr th {\n",
       "        vertical-align: top;\n",
       "    }\n",
       "\n",
       "    .dataframe thead th {\n",
       "        text-align: right;\n",
       "    }\n",
       "</style>\n",
       "<table border=\"1\" class=\"dataframe\">\n",
       "  <thead>\n",
       "    <tr style=\"text-align: right;\">\n",
       "      <th></th>\n",
       "      <th>years</th>\n",
       "      <th>months</th>\n",
       "      <th>Lineitem quantity</th>\n",
       "      <th>days</th>\n",
       "      <th>Date</th>\n",
       "    </tr>\n",
       "  </thead>\n",
       "  <tbody>\n",
       "    <tr>\n",
       "      <td>0</td>\n",
       "      <td>2017</td>\n",
       "      <td>10</td>\n",
       "      <td>74</td>\n",
       "      <td>1</td>\n",
       "      <td>2017-10-01</td>\n",
       "    </tr>\n",
       "    <tr>\n",
       "      <td>1</td>\n",
       "      <td>2017</td>\n",
       "      <td>11</td>\n",
       "      <td>123</td>\n",
       "      <td>1</td>\n",
       "      <td>2017-11-01</td>\n",
       "    </tr>\n",
       "    <tr>\n",
       "      <td>2</td>\n",
       "      <td>2017</td>\n",
       "      <td>12</td>\n",
       "      <td>158</td>\n",
       "      <td>1</td>\n",
       "      <td>2017-12-01</td>\n",
       "    </tr>\n",
       "    <tr>\n",
       "      <td>3</td>\n",
       "      <td>2018</td>\n",
       "      <td>1</td>\n",
       "      <td>4</td>\n",
       "      <td>1</td>\n",
       "      <td>2018-01-01</td>\n",
       "    </tr>\n",
       "    <tr>\n",
       "      <td>4</td>\n",
       "      <td>2018</td>\n",
       "      <td>9</td>\n",
       "      <td>15</td>\n",
       "      <td>1</td>\n",
       "      <td>2018-09-01</td>\n",
       "    </tr>\n",
       "    <tr>\n",
       "      <td>5</td>\n",
       "      <td>2018</td>\n",
       "      <td>10</td>\n",
       "      <td>64</td>\n",
       "      <td>1</td>\n",
       "      <td>2018-10-01</td>\n",
       "    </tr>\n",
       "    <tr>\n",
       "      <td>6</td>\n",
       "      <td>2018</td>\n",
       "      <td>11</td>\n",
       "      <td>51</td>\n",
       "      <td>1</td>\n",
       "      <td>2018-11-01</td>\n",
       "    </tr>\n",
       "    <tr>\n",
       "      <td>7</td>\n",
       "      <td>2018</td>\n",
       "      <td>12</td>\n",
       "      <td>66</td>\n",
       "      <td>1</td>\n",
       "      <td>2018-12-01</td>\n",
       "    </tr>\n",
       "    <tr>\n",
       "      <td>8</td>\n",
       "      <td>2019</td>\n",
       "      <td>1</td>\n",
       "      <td>70</td>\n",
       "      <td>1</td>\n",
       "      <td>2019-01-01</td>\n",
       "    </tr>\n",
       "    <tr>\n",
       "      <td>9</td>\n",
       "      <td>2019</td>\n",
       "      <td>2</td>\n",
       "      <td>81</td>\n",
       "      <td>1</td>\n",
       "      <td>2019-02-01</td>\n",
       "    </tr>\n",
       "    <tr>\n",
       "      <td>10</td>\n",
       "      <td>2019</td>\n",
       "      <td>3</td>\n",
       "      <td>43</td>\n",
       "      <td>1</td>\n",
       "      <td>2019-03-01</td>\n",
       "    </tr>\n",
       "    <tr>\n",
       "      <td>11</td>\n",
       "      <td>2019</td>\n",
       "      <td>4</td>\n",
       "      <td>18</td>\n",
       "      <td>1</td>\n",
       "      <td>2019-04-01</td>\n",
       "    </tr>\n",
       "    <tr>\n",
       "      <td>12</td>\n",
       "      <td>2019</td>\n",
       "      <td>5</td>\n",
       "      <td>26</td>\n",
       "      <td>1</td>\n",
       "      <td>2019-05-01</td>\n",
       "    </tr>\n",
       "    <tr>\n",
       "      <td>13</td>\n",
       "      <td>2019</td>\n",
       "      <td>6</td>\n",
       "      <td>36</td>\n",
       "      <td>1</td>\n",
       "      <td>2019-06-01</td>\n",
       "    </tr>\n",
       "    <tr>\n",
       "      <td>14</td>\n",
       "      <td>2019</td>\n",
       "      <td>7</td>\n",
       "      <td>27</td>\n",
       "      <td>1</td>\n",
       "      <td>2019-07-01</td>\n",
       "    </tr>\n",
       "    <tr>\n",
       "      <td>15</td>\n",
       "      <td>2019</td>\n",
       "      <td>8</td>\n",
       "      <td>5</td>\n",
       "      <td>1</td>\n",
       "      <td>2019-08-01</td>\n",
       "    </tr>\n",
       "    <tr>\n",
       "      <td>16</td>\n",
       "      <td>2019</td>\n",
       "      <td>9</td>\n",
       "      <td>1</td>\n",
       "      <td>1</td>\n",
       "      <td>2019-09-01</td>\n",
       "    </tr>\n",
       "  </tbody>\n",
       "</table>\n",
       "</div>"
      ],
      "text/plain": [
       "    years  months  Lineitem quantity  days       Date\n",
       "0    2017      10                 74     1 2017-10-01\n",
       "1    2017      11                123     1 2017-11-01\n",
       "2    2017      12                158     1 2017-12-01\n",
       "3    2018       1                  4     1 2018-01-01\n",
       "4    2018       9                 15     1 2018-09-01\n",
       "5    2018      10                 64     1 2018-10-01\n",
       "6    2018      11                 51     1 2018-11-01\n",
       "7    2018      12                 66     1 2018-12-01\n",
       "8    2019       1                 70     1 2019-01-01\n",
       "9    2019       2                 81     1 2019-02-01\n",
       "10   2019       3                 43     1 2019-03-01\n",
       "11   2019       4                 18     1 2019-04-01\n",
       "12   2019       5                 26     1 2019-05-01\n",
       "13   2019       6                 36     1 2019-06-01\n",
       "14   2019       7                 27     1 2019-07-01\n",
       "15   2019       8                  5     1 2019-08-01\n",
       "16   2019       9                  1     1 2019-09-01"
      ]
     },
     "execution_count": 11,
     "metadata": {},
     "output_type": "execute_result"
    }
   ],
   "source": [
    "\n",
    "madtoshmlight = pd.read_csv('madtoshmlight.csv')  # doctest: +SKIP\n",
    "cascade128superwash_time=pd.read_csv('cascade128superwash.csv')\n",
    "from datetime import datetime\n",
    "cascade128superwash_time['days']=1\n",
    "cascade128superwash_time['Date'] = cascade128superwash_time.apply(lambda row: datetime(row['years'], row['months'], row['days']), axis=1)\n",
    "#plt.plot(cascade128superwash_time['Date'],cascade128superwash_time['Lineitem quantity'])\n",
    "cascade128superwash_time"
   ]
  },
  {
   "cell_type": "code",
   "execution_count": 74,
   "metadata": {
    "scrolled": true
   },
   "outputs": [
    {
     "data": {
      "image/png": "[encoded data removed]",
      "text/plain": [
       "<Figure size 648x288 with 2 Axes>"
      ]
     },
     "metadata": {
      "needs_background": "light"
     },
     "output_type": "display_data"
    }
   ],
   "source": [
    "import matplotlib.pyplot as plt\n",
    "madtoshmlight = pd.read_csv('madtoshmlight.csv')  # doctest: +SKIP\n",
    "#cascade128superwash_time=pd.read_csv('cascade128superwash.csv')\n",
    "yarn_name = 'cascade-yarns-128-superwash'\n",
    "#yarn_name = 'malabrigo-yarn-mechita'\n",
    "m = slope[yarn_name].coef_\n",
    "b = slope[yarn_name].intercept_\n",
    "perc = (m*12)/np.mean(y_predicted[yarn_name])\n",
    "\n",
    "resultplot = decomp[yarn_name].trend\n",
    "#plt.plot(resultplot)\n",
    "\n",
    "x=resultplot.index.values\n",
    "y=resultplot.values\n",
    "# Create some mock data\n",
    "\n",
    "fig, ax1 = plt.subplots(figsize=(9, 4))\n",
    "#ax1.plot(resultplot,'r')\n",
    "plt.plot(x,y,'b')\n",
    "color = 'tab:blue'\n",
    "#ax1.set_xlabel('')\n",
    "ax1.set_ylabel('Ravelry Project Quantity', color=color)\n",
    "ax1.tick_params(axis='y', labelcolor=color)\n",
    "ax1.set_ylim([60,85])\n",
    "ax1.set_xlim(['2017-08','2020'])\n",
    "ax2 = ax1.twinx()  # instantiate a second axes that shares the same x-axis\n",
    "\n",
    "\n",
    "ax2.plot(cascade128superwash_time['Date'],cascade128superwash_time['Lineitem quantity'],'r')\n",
    "# ax.xaxis.set_major_formatter(DateFormatter('%H:%M:%S'))\n",
    "# plt.show()\n",
    "\n",
    "color = 'tab:red'\n",
    "ax2.set_ylabel('Sales Data Quantity', color=color)  # we already handled the x-label with ax1\n",
    "ax2.tick_params(axis='y', labelcolor=color)\n",
    "ax2.set_ylim([0,200])\n",
    "fig.tight_layout()  # otherwise the right y-label is slightly clipped\n",
    "plt.show()\n",
    "#resultplot.plot(label='yarn1')\n",
    "\n",
    "#the line fit:\n",
    "#plt.plot(x_dates[yarn_name],y_predicted[yarn_name])\n",
    "# plt.plot(cascade128superwash_time['Date'],cascade128superwash_time['Lineitem quantity'],label='yarn2')\n",
    "# plt.legend(loc=1)\n",
    "\n",
    "# plt.ylabel('Project Count')\n",
    "# print(perc)\n",
    "# print(np.mean(y_predicted[yarn_name]))"
   ]
  },
  {
   "cell_type": "code",
   "execution_count": null,
   "metadata": {},
   "outputs": [],
   "source": []
  },
  {
   "cell_type": "code",
   "execution_count": null,
   "metadata": {},
   "outputs": [],
   "source": [
    "decomp['cascade-yarns-128-superwash'].trend"
   ]
  },
  {
   "cell_type": "code",
   "execution_count": null,
   "metadata": {},
   "outputs": [],
   "source": [
    "yData"
   ]
  },
  {
   "cell_type": "code",
   "execution_count": null,
   "metadata": {},
   "outputs": [],
   "source": [
    "import pmdarima\n",
    "pmdarima.__version__"
   ]
  },
  {
   "cell_type": "code",
   "execution_count": null,
   "metadata": {},
   "outputs": [],
   "source": [
    "yData['rohrspatz--wollmeise-sockenwolle-80-20-twin']"
   ]
  },
  {
   "cell_type": "code",
   "execution_count": null,
   "metadata": {},
   "outputs": [],
   "source": [
    "dfaa= yData['rohrspatz--wollmeise-sockenwolle-80-20-twin']\n",
    "#result = seasonal_decompose(dfaa['Project Count'], model='add')\n",
    "#result.plot()\n",
    "auto_arima(dfaa['Project Count'],seasonal=True,m=12).summary()\n",
    "#tt  = auto_arima(dfaa['Project Count'],seasonal=True,m=12)"
   ]
  },
  {
   "cell_type": "code",
   "execution_count": null,
   "metadata": {},
   "outputs": [],
   "source": [
    "tt.order\n"
   ]
  },
  {
   "cell_type": "code",
   "execution_count": null,
   "metadata": {},
   "outputs": [],
   "source": [
    "zData = yData"
   ]
  },
  {
   "cell_type": "code",
   "execution_count": null,
   "metadata": {},
   "outputs": [],
   "source": [
    "for k,v in zData.items():\n",
    "    try:\n",
    "        aa=auto_arima(v,seasonal=True,m=12)\n",
    "    except:\n",
    "        aa = auto_arima(v,seasonal=True)\n",
    "    zData[k] = (v,aa.order,aa.seasonal_order)"
   ]
  },
  {
   "cell_type": "code",
   "execution_count": null,
   "metadata": {
    "scrolled": false
   },
   "outputs": [],
   "source": [
    "zData['rohrspatz--wollmeise-sockenwolle-80-20-twin'][0]"
   ]
  },
  {
   "cell_type": "code",
   "execution_count": null,
   "metadata": {},
   "outputs": [],
   "source": [
    "from statsmodels.tools.eval_measures import rmse\n",
    "\n",
    "for g in tqdm(zData):\n",
    "    predictions={}\n",
    "    fcast={}\n",
    "    error={}\n",
    "    print(f'working on dictionary {g}')\n",
    "    split = len(zData[g][0])\n",
    "    try:\n",
    "        train = zData[g][0].iloc[:(round(3*split/4))]\n",
    "        test = zData[g][0].iloc[(round(3*split/4)):]\n",
    "        #print(zData[g][2])\n",
    "        model = SARIMAX(train['Project Count'],order=zData[g][1],seasonal_order=zData[g][2])\n",
    "        results = model.fit()\n",
    "    except:\n",
    "        train = zData[g][0].iloc[:(round(11*split/12))]\n",
    "        test = zData[g][0].iloc[(round(11*split/12)):]\n",
    "        #print(zData[g][2])\n",
    "        model = SARIMAX(train['Project Count'],order=zData[g][1],seasonal_order=zData[g][2])\n",
    "        results = model.fit()\n",
    "    start=len(train)\n",
    "    end=len(train)+len(test)-1\n",
    "    predictions[g] = results.predict(start=start, end=end, dynamic=False, typ='levels').rename('SARIMA(0,1,3)(1,0,1,12) Predictions')\n",
    "    results = model.fit()\n",
    "    fcast[g] = results.predict(len(zData[g][0]),len(zData[g][0])+11,typ='levels').rename('SARIMA(0,1,3)(1,0,1,12) Forecast')\n",
    "    error[g] = rmse(test['Project Count'], predictions[g])\n",
    "    title = 'Monthly Mean CO₂ Levels (ppm) over Mauna Loa, Hawaii'\n",
    "    ylabel='parts per million'\n",
    "    xlabel=''\n",
    "    %matplotlib inline\n",
    "    ax = zData[g][0]['Project Count'].plot(legend=True,figsize=(12,6),title=title)\n",
    "    fcast[g].plot(legend=True)\n",
    "    predictions[g].plot(legend=True)\n",
    "    ax.autoscale(axis='x',tight=True)\n",
    "    ax.set(xlabel=xlabel, ylabel=ylabel);\n",
    "    print(error)\n",
    "    \n",
    "    "
   ]
  },
  {
   "cell_type": "code",
   "execution_count": null,
   "metadata": {},
   "outputs": [],
   "source": [
    "from statsmodels.tools.eval_measures import rmse\n",
    "test = dict()\n",
    "test['cascade-yarns-128-superwash'] = zData['cascade-yarns-128-superwash']\n",
    "for g in tqdm(test):\n",
    "    print(f'working on dictionary {g}')\n",
    "    split = len(zData[g][0])\n",
    "    train = zData[g][0].iloc[:(round(3*split/4))]\n",
    "    test = zData[g][0].iloc[(round(3*split/4)):]\n",
    "    #print(zData[g][2])\n",
    "    model = SARIMAX(train['Project Count'],order=zData[g][1],seasonal_order=zData[g][2])\n",
    "    results = model.fit()\n",
    "    start=len(train)\n",
    "    end=len(train)+len(test)-1\n",
    "    predictions = results.predict(start=start, end=end, dynamic=False, typ='levels').rename('Predictions')\n",
    "    results = model.fit()\n",
    "    fcast = results.predict(len(zData[g][0]),len(zData[g][0])+11,typ='levels').rename('SARIMA(0,1,3)(1,0,1,12) Forecast')\n",
    "    error = rmse(test['Project Count'], predictions)\n",
    "    title = 'Monthly Global Yarn Usage'\n",
    "    ylabel='Projects'\n",
    "    xlabel=''\n",
    "    %matplotlib inline\n",
    "    ax = zData[g][0]['Project Count'].plot(legend=True,figsize=(12,6),title=title)\n",
    "    predictions.plot(legend=True)\n",
    "    fcast.plot(legend=True)\n",
    "    ax.autoscale(axis='x',tight=True)\n",
    "    ax.set(xlabel=xlabel, ylabel=ylabel);\n",
    "    print(error)\n",
    "    \n",
    "    "
   ]
  },
  {
   "cell_type": "code",
   "execution_count": null,
   "metadata": {},
   "outputs": [],
   "source": [
    "test = dict()\n",
    "test['rohrspatz--wollmeise-sockenwolle-80-20-twin'] = zData['rohrspatz--wollmeise-sockenwolle-80-20-twin']\n",
    "test['rohrspatz--wollmeise-sockenwolle-80-20-twin']"
   ]
  },
  {
   "cell_type": "code",
   "execution_count": null,
   "metadata": {},
   "outputs": [],
   "source": []
  },
  {
   "cell_type": "code",
   "execution_count": null,
   "metadata": {},
   "outputs": [],
   "source": [
    "for k,v in zData.items():\n",
    "    try:\n",
    "        aa=auto_arima(v,seasonal=True,m=12)\n",
    "    except:\n",
    "        aa = auto_arima(v,seasonal=True)\n",
    "    zData[k] = (v,aa.order,aa.seasonal_order)\n",
    "\n",
    "len(df2)\n",
    "train = df2.iloc[:40]\n",
    "test = df2.iloc[40:]"
   ]
  },
  {
   "cell_type": "code",
   "execution_count": null,
   "metadata": {},
   "outputs": [],
   "source": [
    "start=len(train)\n",
    "end=len(train)+len(test)-1\n",
    "predictions = results.predict(start=start, end=end, dynamic=False, typ='levels').rename('SARIMA(0,1,3)(1,0,1,12) Predictions')\n",
    "    "
   ]
  },
  {
   "cell_type": "code",
   "execution_count": null,
   "metadata": {},
   "outputs": [],
   "source": [
    "yData"
   ]
  },
  {
   "cell_type": "code",
   "execution_count": null,
   "metadata": {},
   "outputs": [],
   "source": [
    "decomp"
   ]
  },
  {
   "cell_type": "code",
   "execution_count": null,
   "metadata": {},
   "outputs": [],
   "source": [
    "df1.head()"
   ]
  },
  {
   "cell_type": "code",
   "execution_count": null,
   "metadata": {
    "scrolled": false
   },
   "outputs": [],
   "source": [
    "#df1.reindex.apply(pd.to_datetime)\n",
    "df2 = df1.reset_index()\n",
    "df2 = df2.rename(columns={'index':'Date'})\n",
    "df2['Date'] = df2['Date'].apply(pd.to_datetime)\n",
    "df2.head()"
   ]
  },
  {
   "cell_type": "code",
   "execution_count": null,
   "metadata": {
    "scrolled": true
   },
   "outputs": [],
   "source": [
    "df2['Date']"
   ]
  },
  {
   "cell_type": "code",
   "execution_count": null,
   "metadata": {},
   "outputs": [],
   "source": []
  },
  {
   "cell_type": "code",
   "execution_count": null,
   "metadata": {},
   "outputs": [],
   "source": [
    "get static data set cclean\n",
    "create table that saves arimamodel output for every yarn\n",
    "pos data \n",
    "find top three globally promising yarns that KTLA carries and compare them visually."
   ]
  },
  {
   "cell_type": "code",
   "execution_count": null,
   "metadata": {},
   "outputs": [],
   "source": [
    "indexNames = df2[ (dfObj['Age'] >= 30) & (dfObj['Country'] == 'India') ].index\n",
    "dfObj.drop(indexNames , inplace=True)"
   ]
  },
  {
   "cell_type": "code",
   "execution_count": null,
   "metadata": {},
   "outputs": [],
   "source": [
    "# Set \"date\" to be the index\n",
    "df2.set_index('Date',inplace=True)\n",
    "df2.index.freq = '-1MS'"
   ]
  },
  {
   "cell_type": "code",
   "execution_count": null,
   "metadata": {},
   "outputs": [],
   "source": [
    "df2=df2.sort_index()"
   ]
  },
  {
   "cell_type": "code",
   "execution_count": null,
   "metadata": {},
   "outputs": [],
   "source": [
    "title = 'Monthly Mean CO₂ Levels (ppm) over Mauna Loa, Hawaii'\n",
    "ylabel='parts per million'\n",
    "xlabel='' # we don't really need a label here\n",
    "\n",
    "ax = df2['Project Count'].plot(figsize=(12,6),title=title)\n",
    "ax.autoscale(axis='x',tight=True)\n",
    "ax.set(xlabel=xlabel, ylabel=ylabel);"
   ]
  },
  {
   "cell_type": "code",
   "execution_count": null,
   "metadata": {},
   "outputs": [],
   "source": [
    "result = seasonal_decompose(df2['Project Count'], model='add')\n",
    "result.plot();"
   ]
  },
  {
   "cell_type": "code",
   "execution_count": null,
   "metadata": {},
   "outputs": [],
   "source": [
    "auto_arima(df2['Project Count'],seasonal=True,m=12).summary()"
   ]
  },
  {
   "cell_type": "code",
   "execution_count": null,
   "metadata": {},
   "outputs": [],
   "source": [
    "len(df2)"
   ]
  },
  {
   "cell_type": "code",
   "execution_count": null,
   "metadata": {},
   "outputs": [],
   "source": [
    "train = df2.iloc[:40]\n",
    "test = df2.iloc[40:]"
   ]
  },
  {
   "cell_type": "code",
   "execution_count": null,
   "metadata": {},
   "outputs": [],
   "source": [
    "model = SARIMAX(train['Project Count'],order=(2,0,0),seasonal_order=(1,1,0,12))\n",
    "results = model.fit()\n",
    "results.summary()"
   ]
  },
  {
   "cell_type": "code",
   "execution_count": null,
   "metadata": {},
   "outputs": [],
   "source": [
    "start=len(train)\n",
    "end=len(train)+len(test)-1\n",
    "predictions = results.predict(start=start, end=end, dynamic=False, typ='levels').rename('SARIMA(0,1,3)(1,0,1,12) Predictions')"
   ]
  },
  {
   "cell_type": "code",
   "execution_count": null,
   "metadata": {},
   "outputs": [],
   "source": [
    "for i in range(len(predictions)):\n",
    "    print(f\"predicted={predictions[i]:<11.10}, expected={test['Project Count'][i]}\")"
   ]
  },
  {
   "cell_type": "code",
   "execution_count": null,
   "metadata": {},
   "outputs": [],
   "source": [
    "title = 'Monthly Mean CO₂ Levels (ppm) over Mauna Loa, Hawaii'\n",
    "ylabel='parts per million'\n",
    "xlabel=''\n",
    "\n",
    "ax = test['Project Count'].plot(legend=True,figsize=(12,6),title=title)\n",
    "predictions.plot(legend=True)\n",
    "ax.autoscale(axis='x',tight=True)\n",
    "ax.set(xlabel=xlabel, ylabel=ylabel);"
   ]
  },
  {
   "cell_type": "code",
   "execution_count": null,
   "metadata": {},
   "outputs": [],
   "source": [
    "from sklearn.metrics import mean_squared_error\n",
    "\n",
    "error = mean_squared_error(test['Project Count'], predictions)\n",
    "print(f'SARIMA(0,1,3)(1,0,1,12) MSE Error: {error:11.10}')"
   ]
  },
  {
   "cell_type": "code",
   "execution_count": null,
   "metadata": {},
   "outputs": [],
   "source": [
    "from statsmodels.tools.eval_measures import rmse\n",
    "\n",
    "error = rmse(test['Project Count'], predictions)\n",
    "print(f'SARIMA(0,1,3)(1,0,1,12) RMSE Error: {error:11.10}')"
   ]
  },
  {
   "cell_type": "code",
   "execution_count": null,
   "metadata": {},
   "outputs": [],
   "source": [
    "model = SARIMAX(df2['Project Count'],order=(2,0,0),seasonal_order=(1,1,0,12))\n",
    "results = model.fit()\n",
    "fcast = results.predict(len(df2),len(df2)+11,typ='levels').rename('SARIMA(0,1,3)(1,0,1,12) Forecast')"
   ]
  },
  {
   "cell_type": "code",
   "execution_count": null,
   "metadata": {},
   "outputs": [],
   "source": [
    "# Plot predictions against known values\n",
    "title = 'Monthly Mean CO₂ Levels (ppm) over Mauna Loa, Hawaii'\n",
    "ylabel='parts per million'\n",
    "xlabel=''\n",
    "\n",
    "ax = df2['Project Count'].plot(legend=True,figsize=(12,6),title=title)\n",
    "fcast.plot(legend=True)\n",
    "ax.autoscale(axis='x',tight=True)\n",
    "ax.set(xlabel=xlabel, ylabel=ylabel);"
   ]
  },
  {
   "cell_type": "code",
   "execution_count": null,
   "metadata": {},
   "outputs": [],
   "source": []
  },
  {
   "cell_type": "code",
   "execution_count": null,
   "metadata": {},
   "outputs": [],
   "source": []
  }
 ],
 "metadata": {
  "kernelspec": {
   "display_name": "Python 3",
   "language": "python",
   "name": "python3"
  },
  "language_info": {
   "codemirror_mode": {
    "name": "ipython",
    "version": 3
   },
   "file_extension": ".py",
   "mimetype": "text/x-python",
   "name": "python",
   "nbconvert_exporter": "python",
   "pygments_lexer": "ipython3",
   "version": "3.7.4"
  }
 },
 "nbformat": 4,
 "nbformat_minor": 2
}
